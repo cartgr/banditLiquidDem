{
 "cells": [
  {
   "cell_type": "code",
   "execution_count": 11,
   "metadata": {},
   "outputs": [],
   "source": [
    "from avalanche.benchmarks.classic import RotatedMNIST\n",
    "from torch.utils.data import DataLoader"
   ]
  },
  {
   "cell_type": "code",
   "execution_count": 12,
   "metadata": {},
   "outputs": [],
   "source": [
    "rot_mnist = RotatedMNIST(n_experiences=5, seed=1234)"
   ]
  },
  {
   "cell_type": "code",
   "execution_count": 13,
   "metadata": {},
   "outputs": [
    {
     "name": "stdout",
     "output_type": "stream",
     "text": [
      "Start of task  0\n",
      "Classes in this task: [0, 1, 2, 3, 4, 5, 6, 7, 8, 9]\n",
      "<torch.utils.data.dataloader.DataLoader object at 0x14490df90>\n",
      "Task 0\n",
      "This task contains 60000 training examples\n",
      "This task contains 10000 test examples\n",
      "Start of task  0\n",
      "Classes in this task: [0, 1, 2, 3, 4, 5, 6, 7, 8, 9]\n",
      "<torch.utils.data.dataloader.DataLoader object at 0x11125ded0>\n",
      "Task 0\n",
      "This task contains 60000 training examples\n",
      "This task contains 10000 test examples\n",
      "Start of task  0\n",
      "Classes in this task: [0, 1, 2, 3, 4, 5, 6, 7, 8, 9]\n",
      "<torch.utils.data.dataloader.DataLoader object at 0x11125ded0>\n",
      "Task 0\n",
      "This task contains 60000 training examples\n",
      "This task contains 10000 test examples\n",
      "Start of task  0\n",
      "Classes in this task: [0, 1, 2, 3, 4, 5, 6, 7, 8, 9]\n",
      "<torch.utils.data.dataloader.DataLoader object at 0x14490cc40>\n",
      "Task 0\n",
      "This task contains 60000 training examples\n",
      "This task contains 10000 test examples\n",
      "Start of task  0\n",
      "Classes in this task: [0, 1, 2, 3, 4, 5, 6, 7, 8, 9]\n",
      "<torch.utils.data.dataloader.DataLoader object at 0x1446ec520>\n",
      "Task 0\n",
      "This task contains 60000 training examples\n",
      "This task contains 10000 test examples\n"
     ]
    }
   ],
   "source": [
    "# recovering the train and test streams\n",
    "train_stream = rot_mnist.train_stream\n",
    "test_stream = rot_mnist.test_stream\n",
    "\n",
    "# iterating over the train stream\n",
    "for experience in train_stream:\n",
    "    #   print(dir(experience))\n",
    "    # print(dir(experience.dataset))\n",
    "    print(\"Start of task \", experience.task_label)\n",
    "    print(\"Classes in this task:\", experience.classes_in_this_experience)\n",
    "    dataset = experience.dataset\n",
    "\n",
    "    dataset = DataLoader(dataset, batch_size=128, shuffle=True)\n",
    "    print(dataset)\n",
    "\n",
    "    # The current Pytorch training set can be easily recovered through the\n",
    "    # experience\n",
    "    current_training_set = experience.dataset\n",
    "    # ...as well as the task_label\n",
    "    print(\"Task {}\".format(experience.task_label))\n",
    "    print(\"This task contains\", len(current_training_set), \"training examples\")\n",
    "\n",
    "    # we can recover the corresponding test experience in the test stream\n",
    "    current_test_set = test_stream[experience.current_experience].dataset\n",
    "    print(\"This task contains\", len(current_test_set), \"test examples\")"
   ]
  },
  {
   "cell_type": "code",
   "execution_count": null,
   "metadata": {},
   "outputs": [],
   "source": []
  }
 ],
 "metadata": {
  "kernelspec": {
   "display_name": "LDE",
   "language": "python",
   "name": "python3"
  },
  "language_info": {
   "codemirror_mode": {
    "name": "ipython",
    "version": 3
   },
   "file_extension": ".py",
   "mimetype": "text/x-python",
   "name": "python",
   "nbconvert_exporter": "python",
   "pygments_lexer": "ipython3",
   "version": "3.10.13"
  }
 },
 "nbformat": 4,
 "nbformat_minor": 2
}
