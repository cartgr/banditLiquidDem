{
 "cells": [
  {
   "cell_type": "code",
   "execution_count": 8,
   "metadata": {},
   "outputs": [],
   "source": [
    "from exp_framework.learning import Net\n",
    "import torch\n",
    "import torch.nn as nn"
   ]
  },
  {
   "cell_type": "code",
   "execution_count": 11,
   "metadata": {},
   "outputs": [],
   "source": [
    "class Net2(nn.Module):\n",
    "    def __init__(self, input_dim, output_dim):\n",
    "        super(Net2, self).__init__()\n",
    "        self.input_dim = input_dim\n",
    "        self.output_dim = output_dim\n",
    "\n",
    "        width = 64\n",
    "\n",
    "        self.fc1 = nn.Linear(input_dim, width)\n",
    "        self.fc2 = nn.Linear(width, 64)\n",
    "        self.fc3 = nn.Linear(64, output_dim)\n",
    "\n",
    "\n",
    "class Net3(nn.Module):\n",
    "    def __init__(self, input_dim, output_dim):\n",
    "        super(Net3, self).__init__()\n",
    "        self.input_dim = input_dim\n",
    "        self.output_dim = output_dim\n",
    "\n",
    "        width = 512\n",
    "\n",
    "        self.fc1 = nn.Linear(input_dim, width)\n",
    "        self.fc2 = nn.Linear(width, 64)\n",
    "        self.fc3 = nn.Linear(64, output_dim)"
   ]
  },
  {
   "cell_type": "code",
   "execution_count": 12,
   "metadata": {},
   "outputs": [
    {
     "name": "stdout",
     "output_type": "stream",
     "text": [
      "model2:  55050\n",
      "ensemble:  440400\n",
      "model3:  435402\n"
     ]
    }
   ],
   "source": [
    "model2 = Net2(input_dim=28 * 28, output_dim=10)\n",
    "pytorch_total_params = sum(p.numel() for p in model2.parameters() if p.requires_grad)\n",
    "print(\"model2: \", pytorch_total_params)\n",
    "print(\"ensemble: \", pytorch_total_params * 8)\n",
    "\n",
    "model3 = Net3(input_dim=28 * 28, output_dim=10)\n",
    "pytorch_total_params = sum(p.numel() for p in model3.parameters() if p.requires_grad)\n",
    "print(\"model3: \", pytorch_total_params)"
   ]
  },
  {
   "cell_type": "code",
   "execution_count": null,
   "metadata": {},
   "outputs": [],
   "source": []
  }
 ],
 "metadata": {
  "kernelspec": {
   "display_name": "LDE",
   "language": "python",
   "name": "python3"
  },
  "language_info": {
   "codemirror_mode": {
    "name": "ipython",
    "version": 3
   },
   "file_extension": ".py",
   "mimetype": "text/x-python",
   "name": "python",
   "nbconvert_exporter": "python",
   "pygments_lexer": "ipython3",
   "version": "3.10.13"
  }
 },
 "nbformat": 4,
 "nbformat_minor": 2
}
