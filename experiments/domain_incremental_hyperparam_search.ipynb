{
 "cells": [
  {
   "cell_type": "code",
   "execution_count": 1,
   "metadata": {},
   "outputs": [
    {
     "name": "stderr",
     "output_type": "stream",
     "text": [
      "/Users/carterblair/opt/anaconda3/envs/LDE/lib/python3.10/site-packages/tqdm/auto.py:21: TqdmWarning: IProgress not found. Please update jupyter and ipywidgets. See https://ipywidgets.readthedocs.io/en/stable/user_install.html\n",
      "  from .autonotebook import tqdm as notebook_tqdm\n"
     ]
    }
   ],
   "source": [
    "from avalanche.benchmarks.classic import RotatedMNIST\n",
    "from torch.utils.data import DataLoader\n",
    "from exp_framework.Ensemble import Ensemble, PretrainedEnsemble\n",
    "from exp_framework.delegation import (\n",
    "    DelegationMechanism,\n",
    "    UCBDelegationMechanism,\n",
    "    ProbaSlopeDelegationMechanism,\n",
    "    RestrictedMaxGurusUCBDelegationMechanism,\n",
    ")\n",
    "from exp_framework.experiment import (\n",
    "    Experiment,\n",
    "    calculate_avg_std_test_accs,\n",
    "    calculate_avg_std_train_accs,\n",
    "    calculate_avg_std_test_accs_per_trial,\n",
    ")\n",
    "from matplotlib import pyplot as plt\n",
    "from exp_framework.data_utils import Data\n",
    "import numpy as np\n",
    "import matplotlib as mpl\n",
    "import seaborn as sns\n",
    "from tqdm import tqdm"
   ]
  },
  {
   "cell_type": "code",
   "execution_count": 4,
   "metadata": {},
   "outputs": [],
   "source": [
    "def run_experiment(batch_size, window_size, num_trials, n_voters):\n",
    "    data = Data(data_set_name=\"rotated_mnist\")\n",
    "\n",
    "    NOOP_del_mech = DelegationMechanism(batch_size=batch_size, window_size=window_size)\n",
    "\n",
    "    proba_slope_del_mech = ProbaSlopeDelegationMechanism(\n",
    "        batch_size=batch_size, window_size=window_size\n",
    "    )\n",
    "\n",
    "    ensembles = [\n",
    "        Ensemble(\n",
    "            training_epochs=1,\n",
    "            n_voters=n_voters,\n",
    "            delegation_mechanism=NOOP_del_mech,\n",
    "            name=\"full_ensemble\",\n",
    "            input_dim=28 * 28,\n",
    "            output_dim=10,\n",
    "        ),\n",
    "        Ensemble(\n",
    "            training_epochs=1,\n",
    "            n_voters=n_voters,\n",
    "            delegation_mechanism=proba_slope_del_mech,\n",
    "            name=\"proba_slope_delegations\",\n",
    "            input_dim=28 * 28,\n",
    "            output_dim=10,\n",
    "        ),\n",
    "    ]\n",
    "\n",
    "    exp = Experiment(n_trials=num_trials, ensembles=ensembles, data=data, seed=653)\n",
    "    _ = exp.run()\n",
    "\n",
    "    (\n",
    "        proba_slope_avg_test_accs_per_trial,\n",
    "        proba_slope_std_test_accs_per_trial,\n",
    "    ) = calculate_avg_std_test_accs_per_trial(\n",
    "        exp, \"proba_slope_delegations\", num_trials\n",
    "    )\n",
    "    (\n",
    "        full_avg_test_accs_per_trial,\n",
    "        full_std_test_accs_per_trial,\n",
    "    ) = calculate_avg_std_test_accs_per_trial(exp, \"full_ensemble\", num_trials)\n",
    "\n",
    "    return np.mean(proba_slope_avg_test_accs_per_trial) - np.mean(\n",
    "        full_avg_test_accs_per_trial\n",
    "    )"
   ]
  },
  {
   "cell_type": "code",
   "execution_count": 5,
   "metadata": {},
   "outputs": [
    {
     "name": "stderr",
     "output_type": "stream",
     "text": [
      "100%|██████████| 2/2 [04:09<00:00, 124.82s/it]\n",
      "1it [04:14, 254.01s/it]"
     ]
    },
    {
     "name": "stdout",
     "output_type": "stream",
     "text": [
      "batch_size: 128, window_size: 300, n_voter: 3, result: 0.15186221230670305\n"
     ]
    },
    {
     "name": "stderr",
     "output_type": "stream",
     "text": [
      "100%|██████████| 2/2 [04:05<00:00, 122.93s/it]\n",
      "2it [08:24, 251.79s/it]"
     ]
    },
    {
     "name": "stdout",
     "output_type": "stream",
     "text": [
      "batch_size: 128, window_size: 310, n_voter: 3, result: 0.14728260871089627\n"
     ]
    },
    {
     "name": "stderr",
     "output_type": "stream",
     "text": [
      "100%|██████████| 2/2 [04:09<00:00, 124.69s/it]\n",
      "3it [12:37, 252.68s/it]"
     ]
    },
    {
     "name": "stdout",
     "output_type": "stream",
     "text": [
      "batch_size: 128, window_size: 320, n_voter: 3, result: 0.15521499362138214\n"
     ]
    },
    {
     "name": "stderr",
     "output_type": "stream",
     "text": [
      "100%|██████████| 2/2 [04:11<00:00, 125.89s/it]\n",
      "4it [16:54, 254.05s/it]"
     ]
    },
    {
     "name": "stdout",
     "output_type": "stream",
     "text": [
      "batch_size: 128, window_size: 330, n_voter: 3, result: 0.15311500956030444\n"
     ]
    },
    {
     "name": "stderr",
     "output_type": "stream",
     "text": [
      "100%|██████████| 2/2 [04:11<00:00, 125.81s/it]\n",
      "5it [21:10, 254.76s/it]"
     ]
    },
    {
     "name": "stdout",
     "output_type": "stream",
     "text": [
      "batch_size: 128, window_size: 340, n_voter: 3, result: 0.15023377560593576\n"
     ]
    },
    {
     "name": "stderr",
     "output_type": "stream",
     "text": [
      "100%|██████████| 2/2 [04:12<00:00, 126.33s/it]\n",
      "6it [25:27, 255.54s/it]"
     ]
    },
    {
     "name": "stdout",
     "output_type": "stream",
     "text": [
      "batch_size: 128, window_size: 350, n_voter: 3, result: 0.16707560740163552\n"
     ]
    },
    {
     "name": "stderr",
     "output_type": "stream",
     "text": [
      "100%|██████████| 2/2 [04:10<00:00, 125.21s/it]\n",
      "7it [29:41, 255.28s/it]"
     ]
    },
    {
     "name": "stdout",
     "output_type": "stream",
     "text": [
      "batch_size: 128, window_size: 360, n_voter: 3, result: 0.1657269022348895\n"
     ]
    },
    {
     "name": "stderr",
     "output_type": "stream",
     "text": [
      "100%|██████████| 2/2 [04:03<00:00, 121.83s/it]\n",
      "8it [33:50, 252.99s/it]"
     ]
    },
    {
     "name": "stdout",
     "output_type": "stream",
     "text": [
      "batch_size: 128, window_size: 370, n_voter: 3, result: 0.1853960198362159\n"
     ]
    },
    {
     "name": "stderr",
     "output_type": "stream",
     "text": [
      "100%|██████████| 2/2 [04:10<00:00, 125.25s/it]\n",
      "9it [38:04, 253.59s/it]"
     ]
    },
    {
     "name": "stdout",
     "output_type": "stream",
     "text": [
      "batch_size: 128, window_size: 380, n_voter: 3, result: 0.16509351027591146\n"
     ]
    },
    {
     "name": "stderr",
     "output_type": "stream",
     "text": [
      "100%|██████████| 2/2 [04:10<00:00, 125.33s/it]\n",
      "10it [42:19, 254.04s/it]"
     ]
    },
    {
     "name": "stdout",
     "output_type": "stream",
     "text": [
      "batch_size: 128, window_size: 390, n_voter: 3, result: 0.20055346865483248\n"
     ]
    },
    {
     "name": "stderr",
     "output_type": "stream",
     "text": [
      "100%|██████████| 2/2 [04:11<00:00, 125.84s/it]\n",
      "11it [46:36, 254.19s/it]"
     ]
    },
    {
     "name": "stdout",
     "output_type": "stream",
     "text": [
      "batch_size: 128, window_size: 400, n_voter: 3, result: 0.21515345268542196\n"
     ]
    },
    {
     "name": "stderr",
     "output_type": "stream",
     "text": [
      "\n"
     ]
    }
   ],
   "source": [
    "# hyper parameter search\n",
    "batch_sizes = [128]\n",
    "window_sizes = [300, 310, 320, 330, 340, 350, 360, 370, 380, 390, 400]\n",
    "num_trials = 2\n",
    "n_voters = [3]\n",
    "\n",
    "results = np.zeros((len(batch_sizes), len(window_sizes), len(n_voters)))\n",
    "for i, batch_size in enumerate(batch_sizes):\n",
    "    for j, window_size in tqdm(enumerate(window_sizes)):\n",
    "        for k, n_voter in enumerate(n_voters):\n",
    "            results[i, j, k] = run_experiment(\n",
    "                batch_size, window_size, num_trials, n_voter\n",
    "            )\n",
    "            print(\n",
    "                f\"batch_size: {batch_size}, window_size: {window_size}, n_voter: {n_voter}, result: {results[i, j, k]}\"\n",
    "            )"
   ]
  },
  {
   "cell_type": "code",
   "execution_count": null,
   "metadata": {},
   "outputs": [],
   "source": []
  }
 ],
 "metadata": {
  "kernelspec": {
   "display_name": "LDE",
   "language": "python",
   "name": "python3"
  },
  "language_info": {
   "codemirror_mode": {
    "name": "ipython",
    "version": 3
   },
   "file_extension": ".py",
   "mimetype": "text/x-python",
   "name": "python",
   "nbconvert_exporter": "python",
   "pygments_lexer": "ipython3",
   "version": "3.10.13"
  }
 },
 "nbformat": 4,
 "nbformat_minor": 2
}
