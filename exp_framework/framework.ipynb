{
 "cells": [
  {
   "cell_type": "code",
   "execution_count": 9,
   "metadata": {},
   "outputs": [],
   "source": [
    "import matplotlib.pyplot as plt\n",
    "import torch\n",
    "import torch.nn as nn\n",
    "import torch.optim as optim\n",
    "from torch.utils.data import DataLoader, TensorDataset"
   ]
  },
  {
   "cell_type": "markdown",
   "metadata": {},
   "source": [
    "# Data Helpers"
   ]
  },
  {
   "cell_type": "code",
   "execution_count": 10,
   "metadata": {},
   "outputs": [],
   "source": [
    "def load_dataset(self):\n",
    "    pass\n",
    "\n",
    "\n",
    "def preprocess_data(data):\n",
    "    # Code for data preprocessing\n",
    "    pass"
   ]
  },
  {
   "cell_type": "markdown",
   "metadata": {},
   "source": [
    "# Visualization Helpers"
   ]
  },
  {
   "cell_type": "code",
   "execution_count": 11,
   "metadata": {},
   "outputs": [],
   "source": [
    "def plot_results(results):\n",
    "    # Code to plot results\n",
    "    pass"
   ]
  },
  {
   "cell_type": "markdown",
   "metadata": {},
   "source": [
    "# Classifier Class"
   ]
  },
  {
   "cell_type": "code",
   "execution_count": 16,
   "metadata": {},
   "outputs": [],
   "source": [
    "class Classifier(nn.Module):\n",
    "    def __init__(self, input_size, hidden_size, output_size):\n",
    "        super(Classifier, self).__init__()\n",
    "        self.layer1 = nn.Linear(input_size, hidden_size)\n",
    "        self.relu = nn.ReLU()\n",
    "        self.layer2 = nn.Linear(hidden_size, output_size)\n",
    "\n",
    "    def forward(self, x):\n",
    "        x = self.relu(self.layer1(x))\n",
    "        x = self.layer2(x)\n",
    "        return x\n",
    "\n",
    "    def fit(self, train_loader, epochs=5, learning_rate=0.001):\n",
    "        criterion = nn.CrossEntropyLoss()\n",
    "        optimizer = optim.Adam(self.parameters(), lr=learning_rate)\n",
    "        for epoch in range(epochs):\n",
    "            for inputs, labels in train_loader:\n",
    "                optimizer.zero_grad()\n",
    "                outputs = self(inputs)\n",
    "                loss = criterion(outputs, labels)\n",
    "                loss.backward()\n",
    "                optimizer.step()\n",
    "\n",
    "    def partial_fit(self, inputs, labels, learning_rate=0.001):\n",
    "        train_loader = DataLoader(TensorDataset(inputs, labels), batch_size=1)\n",
    "        self.fit(train_loader, epochs=1, learning_rate=learning_rate)\n",
    "\n",
    "    def predict(self, inputs):\n",
    "        outputs = self(inputs)\n",
    "        _, predicted = torch.max(outputs.data, 1)\n",
    "        return predicted\n",
    "\n",
    "    def predict_proba(self, inputs):\n",
    "        outputs = self(inputs)\n",
    "        return outputs.data"
   ]
  },
  {
   "cell_type": "markdown",
   "metadata": {},
   "source": [
    "# Ensemble Class"
   ]
  },
  {
   "cell_type": "code",
   "execution_count": 27,
   "metadata": {},
   "outputs": [],
   "source": [
    "# Ensemble Module\n",
    "class Ensemble:\n",
    "    def __init__(self):\n",
    "        self.classifiers = []\n",
    "\n",
    "    def add_classifier(self, classifier):\n",
    "        self.classifiers.append(classifier)\n",
    "\n",
    "    def remove_classifier(self, classifier):\n",
    "        self.classifiers.remove(classifier)\n",
    "\n",
    "    def fit(self, train_loader, epochs=5, learning_rate=0.001):\n",
    "        for classifier in self.classifiers:\n",
    "            classifier.fit(train_loader, epochs, learning_rate)\n",
    "\n",
    "    def partial_fit(self, inputs, labels, learning_rate=0.001):\n",
    "        for classifier in self.classifiers:\n",
    "            classifier.partial_fit(inputs, labels, learning_rate)\n",
    "\n",
    "    def vote(self, data, voting_method=\"proba\"):\n",
    "        assert voting_method in [\"proba\", \"majority\"]\n",
    "\n",
    "        if voting_method == \"proba\":\n",
    "            return self._probability_voting(data)\n",
    "        else:\n",
    "            return self._majority_voting(data)\n",
    "\n",
    "    def _probability_voting(self, data):\n",
    "        # Aggregate probabilities from each classifier and take the maximum\n",
    "        total_proba = None\n",
    "        for classifier in self.classifiers:\n",
    "            proba = classifier.predict_proba(data)\n",
    "            if total_proba is None:\n",
    "                total_proba = proba\n",
    "            else:\n",
    "                total_proba += proba\n",
    "        _, predicted = torch.max(total_proba, 1)\n",
    "        return predicted\n",
    "\n",
    "    def _majority_voting(self, data):\n",
    "        # Perform majority voting\n",
    "        votes = None\n",
    "        for classifier in self.classifiers:\n",
    "            prediction = classifier.predict(data)\n",
    "            if votes is None:\n",
    "                votes = prediction.unsqueeze(1)\n",
    "            else:\n",
    "                votes = torch.cat((votes, prediction.unsqueeze(1)), dim=1)\n",
    "        majority_vote, _ = torch.mode(votes, dim=1)\n",
    "        return majority_vote"
   ]
  },
  {
   "cell_type": "markdown",
   "metadata": {},
   "source": [
    "# Delegation Mechanism Class"
   ]
  },
  {
   "cell_type": "code",
   "execution_count": 18,
   "metadata": {},
   "outputs": [],
   "source": [
    "class DelegationMechanism:\n",
    "    def __init__(self):\n",
    "        # Initialize delegation mechanism parameters\n",
    "        pass\n",
    "\n",
    "    def delegate(self, ensemble, data):\n",
    "        # Code for the delegation logic\n",
    "        pass"
   ]
  },
  {
   "cell_type": "markdown",
   "metadata": {},
   "source": [
    "# Testing"
   ]
  },
  {
   "cell_type": "code",
   "execution_count": 31,
   "metadata": {},
   "outputs": [],
   "source": [
    "clf1 = Classifier(10, 10, 2)\n",
    "clf2 = Classifier(10, 10, 2)\n",
    "\n",
    "ensemble = Ensemble()\n",
    "ensemble.add_classifier(clf1)\n",
    "ensemble.add_classifier(clf2)\n",
    "\n",
    "train_data = torch.randn(10, 10)\n",
    "train_labels = torch.randint(0, 2, (10,))\n",
    "\n",
    "test_data = torch.randn(10, 10)\n",
    "test_labels = torch.randint(0, 2, (10,))\n",
    "\n",
    "train_loader = DataLoader(TensorDataset(train_data, train_labels), batch_size=1)\n",
    "test_loader = DataLoader(TensorDataset(test_data, test_labels), batch_size=1)\n",
    "\n",
    "ensemble.fit(train_loader, epochs=5, learning_rate=0.001)\n",
    "\n",
    "predicted = ensemble.vote(test_data, voting_method=\"proba\")\n",
    "\n",
    "# partial_fit\n",
    "for inputs, labels in train_loader:\n",
    "    ensemble.partial_fit(inputs, labels)\n",
    "\n",
    "predicted = ensemble.vote(test_data, voting_method=\"majority\")"
   ]
  },
  {
   "cell_type": "code",
   "execution_count": null,
   "metadata": {},
   "outputs": [],
   "source": []
  }
 ],
 "metadata": {
  "kernelspec": {
   "display_name": "liquidDem",
   "language": "python",
   "name": "python3"
  },
  "language_info": {
   "codemirror_mode": {
    "name": "ipython",
    "version": 3
   },
   "file_extension": ".py",
   "mimetype": "text/x-python",
   "name": "python",
   "nbconvert_exporter": "python",
   "pygments_lexer": "ipython3",
   "version": "3.9.18"
  }
 },
 "nbformat": 4,
 "nbformat_minor": 2
}
