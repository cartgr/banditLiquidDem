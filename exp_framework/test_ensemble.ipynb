{
 "cells": [
  {
   "cell_type": "code",
   "execution_count": 1,
   "metadata": {},
   "outputs": [],
   "source": [
    "from Ensemble import Ensemble\n",
    "import learning_utils\n",
    "from delegation import DelegationMechanism"
   ]
  },
  {
   "cell_type": "markdown",
   "metadata": {},
   "source": [
    "# Initialize direct and delegating ensembles"
   ]
  },
  {
   "cell_type": "code",
   "execution_count": 2,
   "metadata": {},
   "outputs": [],
   "source": [
    "batch_size = 128\n",
    "window_size = 10\n",
    "train_digit_groups = [[0, 1], [2, 3], [4, 5], [6, 7], [8, 9]]\n",
    "test_digit_groups = [[0, 1, 2, 3, 4], [5, 6, 7, 8, 9]]\n",
    "train_data_loaders, train_splits = learning_utils.create_mnist_loaders(digit_groups=train_digit_groups,\n",
    "                                                         batch_size=batch_size,\n",
    "                                                         train=True\n",
    "                                                         )\n",
    "test_data_loaders, test_splits = learning_utils.create_mnist_loaders(digit_groups=test_digit_groups,\n",
    "                                                        batch_size=batch_size,\n",
    "                                                        train=False\n",
    "                                                        )\n",
    "\n",
    "del_mech = DelegationMechanism(\n",
    "            batch_size=batch_size,\n",
    "            window_size=window_size\n",
    "        )\n",
    "\n",
    "all_ensembles = []\n",
    "\n",
    "delegating_ensemble = Ensemble(\n",
    "    models_per_train_digit_group=1,\n",
    "    training_epochs=1,\n",
    "    batch_size=batch_size,\n",
    "    window_size=window_size,\n",
    "    train_loaders=train_data_loaders,\n",
    "    test_loaders=test_data_loaders,\n",
    "    train_digit_groups=train_digit_groups,\n",
    "    test_digit_groups=test_digit_groups,\n",
    "    delegation_mechanism=del_mech\n",
    ")\n",
    "all_ensembles.append(delegating_ensemble)\n",
    "\n",
    "full_ensemble = Ensemble(\n",
    "    models_per_train_digit_group=1,\n",
    "    training_epochs=1,\n",
    "    batch_size=batch_size,\n",
    "    window_size=window_size,\n",
    "    train_loaders=train_data_loaders,\n",
    "    test_loaders=test_data_loaders,\n",
    "    train_digit_groups=train_digit_groups,\n",
    "    test_digit_groups=test_digit_groups,\n",
    "    delegation_mechanism=del_mech\n",
    ")\n",
    "all_ensembles.append(full_ensemble)\n",
    "\n",
    "\n",
    "for ens in all_ensembles:\n",
    "    ens.initialize_voters()"
   ]
  },
  {
   "cell_type": "markdown",
   "metadata": {},
   "source": [
    "## Train ensembles"
   ]
  },
  {
   "cell_type": "code",
   "execution_count": 3,
   "metadata": {},
   "outputs": [
    {
     "ename": "AttributeError",
     "evalue": "'Net' object has no attribute 'loader'",
     "output_type": "error",
     "traceback": [
      "\u001b[0;31m---------------------------------------------------------------------------\u001b[0m",
      "\u001b[0;31mAttributeError\u001b[0m                            Traceback (most recent call last)",
      "Cell \u001b[0;32mIn[3], line 2\u001b[0m\n\u001b[1;32m      1\u001b[0m \u001b[38;5;66;03m# Currently, fully trains each voter within the ensemble\u001b[39;00m\n\u001b[0;32m----> 2\u001b[0m ld_trained_models \u001b[38;5;241m=\u001b[39m \u001b[43mdelegating_ensemble\u001b[49m\u001b[38;5;241;43m.\u001b[39;49m\u001b[43mtrain_models\u001b[49m\u001b[43m(\u001b[49m\u001b[43m)\u001b[49m\n\u001b[1;32m      3\u001b[0m direct_trained_models \u001b[38;5;241m=\u001b[39m full_ensemble\u001b[38;5;241m.\u001b[39mtrain_models()\n",
      "File \u001b[0;32m~/VSCode/banditLiquidDem/exp_framework/Ensemble.py:76\u001b[0m, in \u001b[0;36mEnsemble.train_models\u001b[0;34m(self)\u001b[0m\n\u001b[1;32m     73\u001b[0m \u001b[38;5;28;01mfor\u001b[39;00m voter \u001b[38;5;129;01min\u001b[39;00m \u001b[38;5;28mself\u001b[39m\u001b[38;5;241m.\u001b[39mvoters:\n\u001b[1;32m     75\u001b[0m     \u001b[38;5;28;01mfor\u001b[39;00m _ \u001b[38;5;129;01min\u001b[39;00m \u001b[38;5;28mrange\u001b[39m(voter\u001b[38;5;241m.\u001b[39mtraining_epochs):\n\u001b[0;32m---> 76\u001b[0m         \u001b[38;5;28;01mfor\u001b[39;00m images, labels \u001b[38;5;129;01min\u001b[39;00m \u001b[43mvoter\u001b[49m\u001b[38;5;241;43m.\u001b[39;49m\u001b[43mmodel\u001b[49m\u001b[38;5;241;43m.\u001b[39;49m\u001b[43mloader\u001b[49m:\n\u001b[1;32m     77\u001b[0m             images, labels \u001b[38;5;241m=\u001b[39m images\u001b[38;5;241m.\u001b[39mto(\u001b[38;5;28mself\u001b[39m\u001b[38;5;241m.\u001b[39mdevice), labels\u001b[38;5;241m.\u001b[39mto(\u001b[38;5;28mself\u001b[39m\u001b[38;5;241m.\u001b[39mdevice)\n\u001b[1;32m     78\u001b[0m             voter\u001b[38;5;241m.\u001b[39moptimizer\u001b[38;5;241m.\u001b[39mzero_grad()\n",
      "File \u001b[0;32m~/VSCode/banditLiquidDem/.conda/lib/python3.11/site-packages/torch/nn/modules/module.py:1695\u001b[0m, in \u001b[0;36mModule.__getattr__\u001b[0;34m(self, name)\u001b[0m\n\u001b[1;32m   1693\u001b[0m     \u001b[38;5;28;01mif\u001b[39;00m name \u001b[38;5;129;01min\u001b[39;00m modules:\n\u001b[1;32m   1694\u001b[0m         \u001b[38;5;28;01mreturn\u001b[39;00m modules[name]\n\u001b[0;32m-> 1695\u001b[0m \u001b[38;5;28;01mraise\u001b[39;00m \u001b[38;5;167;01mAttributeError\u001b[39;00m(\u001b[38;5;124mf\u001b[39m\u001b[38;5;124m\"\u001b[39m\u001b[38;5;124m'\u001b[39m\u001b[38;5;132;01m{\u001b[39;00m\u001b[38;5;28mtype\u001b[39m(\u001b[38;5;28mself\u001b[39m)\u001b[38;5;241m.\u001b[39m\u001b[38;5;18m__name__\u001b[39m\u001b[38;5;132;01m}\u001b[39;00m\u001b[38;5;124m'\u001b[39m\u001b[38;5;124m object has no attribute \u001b[39m\u001b[38;5;124m'\u001b[39m\u001b[38;5;132;01m{\u001b[39;00mname\u001b[38;5;132;01m}\u001b[39;00m\u001b[38;5;124m'\u001b[39m\u001b[38;5;124m\"\u001b[39m)\n",
      "\u001b[0;31mAttributeError\u001b[0m: 'Net' object has no attribute 'loader'"
     ]
    }
   ],
   "source": [
    "# Currently, fully trains each voter within the ensemble\n",
    "ld_trained_models = delegating_ensemble.train_models()\n",
    "direct_trained_models = full_ensemble.train_models()"
   ]
  }
 ],
 "metadata": {
  "kernelspec": {
   "display_name": "Python 3",
   "language": "python",
   "name": "python3"
  },
  "language_info": {
   "codemirror_mode": {
    "name": "ipython",
    "version": 3
   },
   "file_extension": ".py",
   "mimetype": "text/x-python",
   "name": "python",
   "nbconvert_exporter": "python",
   "pygments_lexer": "ipython3",
   "version": "3.11.6"
  }
 },
 "nbformat": 4,
 "nbformat_minor": 2
}
